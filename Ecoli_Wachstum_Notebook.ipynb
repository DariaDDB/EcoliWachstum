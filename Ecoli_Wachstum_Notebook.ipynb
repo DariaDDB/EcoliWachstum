{
 "cells": [
  {
   "cell_type": "markdown",
   "id": "82d2cd83",
   "metadata": {},
   "source": [
    "# Wachstum von *Escherichia coli* bei verschiedenen Temperaturen\n",
    "\n",
    "In diesem Notebook untersucht ihr, wie sich die Wachstumsgeschwindigkeit von *Escherichia coli* unter verschiedenen Temperaturen verändert.  \n",
    "Ihr werdet Daten **simulieren**, **analysieren** und **interpretieren**.\n",
    "\n",
    "👉 Das Notebook richtet sich an Studierende ohne Programmiererfahrung.\n",
    "\n",
    "## Ziele\n",
    "- Simulation mikrobiologischer Daten\n",
    "- Deskriptive Statistik (Mittelwert, Standardabweichung)\n",
    "- Datenvisualisierung (Boxplots)\n",
    "- Auswahl und Durchführung geeigneter statistischer Tests (t-Test, ANOVA)\n"
   ]
  },
  {
   "cell_type": "code",
   "execution_count": null,
   "id": "f5e5d1cd",
   "metadata": {},
   "outputs": [],
   "source": [
    "import numpy as np\n",
    "import pandas as pd\n",
    "import matplotlib.pyplot as plt\n",
    "import seaborn as sns\n",
    "from scipy import stats\n",
    "from itertools import combinations\n",
    "\n",
    "sns.set(style=\"whitegrid\")\n"
   ]
  },
  {
   "cell_type": "markdown",
   "id": "557a9b8a",
   "metadata": {},
   "source": [
    "## 1. Parameter setzen\n",
    "\n",
    "Bitte wählt hier die Temperaturen aus, die ihr untersuchen wollt, und die Anzahl an Replikaten (Wiederholungen) pro Temperatur.\n"
   ]
  },
  {
   "cell_type": "code",
   "execution_count": null,
   "id": "15b4b2d9",
   "metadata": {},
   "outputs": [],
   "source": [
    "# Beispielwerte – ihr könnt sie anpassen\n",
    "temperaturen = [30, 37, 42]  # <- Liste von Temperaturen in °C\n",
    "anzahl_replikate = 3         # <- Anzahl biologischer Replikate\n"
   ]
  },
  {
   "cell_type": "markdown",
   "id": "c8c0f26b",
   "metadata": {},
   "source": [
    "## 2. Datensimulation\n",
    "\n",
    "Basierend auf eurer Auswahl simulieren wir OD600-Werte nach 8 Stunden Wachstum.\n"
   ]
  },
  {
   "cell_type": "code",
   "execution_count": null,
   "id": "e9d390ff",
   "metadata": {},
   "outputs": [],
   "source": [
    "np.random.seed(42)\n",
    "daten = []\n",
    "\n",
    "for temp in temperaturen:\n",
    "    if temp == 37:\n",
    "        mittelwert = 1.0\n",
    "    elif temp < 37:\n",
    "        mittelwert = 0.7 - 0.05 * abs(37 - temp)\n",
    "    else:\n",
    "        mittelwert = 0.6 - 0.07 * abs(37 - temp)\n",
    "        \n",
    "    for _ in range(anzahl_replikate):\n",
    "        wert = np.random.normal(loc=mittelwert, scale=0.05)\n",
    "        daten.append({\"Temperatur\": temp, \"OD600\": max(wert, 0)})\n",
    "\n",
    "df = pd.DataFrame(daten)\n",
    "df.head()\n"
   ]
  },
  {
   "cell_type": "markdown",
   "id": "c0be79eb",
   "metadata": {},
   "source": [
    "## 3. Deskriptive Statistik und Visualisierung\n",
    "\n",
    "Wie sieht das Wachstum bei den verschiedenen Temperaturen aus?\n"
   ]
  },
  {
   "cell_type": "code",
   "execution_count": null,
   "id": "7745e3f4",
   "metadata": {},
   "outputs": [],
   "source": [
    "print(\"Deskriptive Statistik:\")\n",
    "print(df.groupby(\"Temperatur\")[\"OD600\"].agg([\"mean\", \"std\"]))\n",
    "\n",
    "plt.figure(figsize=(8,5))\n",
    "sns.boxplot(x=\"Temperatur\", y=\"OD600\", data=df)\n",
    "plt.title(\"Wachstum von E. coli bei verschiedenen Temperaturen\")\n",
    "plt.ylabel(\"OD600 nach 8 Stunden\")\n",
    "plt.xlabel(\"Temperatur (°C)\")\n",
    "plt.show()\n"
   ]
  },
  {
   "cell_type": "markdown",
   "id": "acc05f0f",
   "metadata": {},
   "source": [
    "## 4. Statistische Analyse\n",
    "\n",
    "🧠 Überlegt zuerst selbst:  \n",
    "- Habt ihr **zwei Gruppen**? → t-Test  \n",
    "- Habt ihr **mehr als zwei Gruppen**? → ANOVA\n",
    "\n",
    "Danach führen wir eine ANOVA sowie t-Tests durch:\n"
   ]
  },
  {
   "cell_type": "code",
   "execution_count": null,
   "id": "59ede76f",
   "metadata": {},
   "outputs": [],
   "source": [
    "gruppen = [df[df[\"Temperatur\"] == temp][\"OD600\"] for temp in temperaturen]\n",
    "F, p = stats.f_oneway(*gruppen)\n",
    "print(f\"ANOVA: F = {F:.2f}, p = {p:.4f}\")\n",
    "\n",
    "print(\"\\nPaarweise t-Tests:\")\n",
    "for t1, t2 in combinations(temperaturen, 2):\n",
    "    gruppe1 = df[df[\"Temperatur\"] == t1][\"OD600\"]\n",
    "    gruppe2 = df[df[\"Temperatur\"] == t2][\"OD600\"]\n",
    "    t_stat, p_val = stats.ttest_ind(gruppe1, gruppe2)\n",
    "    print(f\"{t1}°C vs {t2}°C: t = {t_stat:.2f}, p = {p_val:.4f}\")\n"
   ]
  },
  {
   "cell_type": "markdown",
   "id": "2c8a8da8",
   "metadata": {},
   "source": [
    "## 5. Reflexion\n",
    "\n",
    "Diskutiert in der Gruppe:\n",
    "- Welche Temperatur zeigte das beste Wachstum?\n",
    "- Waren die Unterschiede statistisch signifikant?\n",
    "- Was könnten biologische Gründe für die Unterschiede sein?\n"
   ]
  }
 ],
 "metadata": {
  "language": "python"
 },
 "nbformat": 4,
 "nbformat_minor": 5
}